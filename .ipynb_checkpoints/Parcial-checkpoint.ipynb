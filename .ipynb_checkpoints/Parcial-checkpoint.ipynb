{
 "cells": [
  {
   "cell_type": "markdown",
   "id": "a06b201d",
   "metadata": {},
   "source": [
    "# Modelo de regresión lineal múltiple\n"
   ]
  },
  {
   "cell_type": "markdown",
   "id": "f1f659d6",
   "metadata": {},
   "source": [
    "El modelo de regresión lineal múltiple con ( p ) variables predictoras y basado en ( n ) observaciones tomadas es de la forma:\n",
    "\n",
    "$y_i = \\beta_0 + \\beta_1 x_{i1} + \\beta_2 x_{i2} + \\ldots + \\beta_p x_{ip} + e_i \\quad \\text{para } i=1,2,\\ldots,n.$\n",
    "\n",
    "Escribiendo el modelo para cada una de las observaciones, éste puede ser considerado como un sistema de ecuaciones lineales de la forma:\n",
    "\n",
    "\n",
    "$$\\begin{aligned}\n",
    "y_1 &= \\beta_0 + \\beta_1 x_{11} + \\beta_2 x_{12} + \\ldots + \\beta_p x_{1p} + e_1 \\\\\n",
    "y_2 &= \\beta_0 + \\beta_1 x_{21} + \\beta_2 x_{22} + \\ldots + \\beta_p x_{2p} + e_2 \\\\\n",
    "&\\vdots \\\\\n",
    "y_n &= \\beta_0 + \\beta_1 x_{n1} + \\beta_2 x_{n2} + \\ldots + \\beta_p x_{np} + e_n \\\\\n",
    "\\end{aligned}$$\n",
    "\n",
    "que puede ser escrita en forma matricial como\n",
    "\n",
    "$$\n",
    "\\begin{bmatrix}\n",
    "y_1 \\\\\n",
    "y_2 \\\\\n",
    "\\vdots \\\\\n",
    "y_n \\\\\n",
    "\\end{bmatrix}\n",
    "=\n",
    "\\begin{bmatrix}\n",
    "1 & x_{11} & x_{12} & \\ldots & x_{1p} \\\\\n",
    "1 & x_{21} & x_{22} & \\ldots & x_{2p} \\\\\n",
    "\\vdots & \\vdots & \\vdots & \\ddots & \\vdots \\\\\n",
    "1 & x_{n1} & x_{n2} & \\ldots & x_{np} \\\\\n",
    "\\end{bmatrix}\n",
    "\\begin{bmatrix}\n",
    "\\beta_0 \\\\\n",
    "\\beta_1 \\\\\n",
    "\\beta_2 \\\\\n",
    "\\vdots \\\\\n",
    "\\beta_p \\\\\n",
    "\\end{bmatrix}\n",
    "+\n",
    "\\begin{bmatrix}\n",
    "e_1 \\\\\n",
    "e_2 \\\\\n",
    "\\vdots \\\\\n",
    "e_n \\\\\n",
    "\\end{bmatrix}\n",
    "$$\n",
    "\n",
    "O sea,\n",
    "$$Y = X\\beta + e \\quad (2.2)$$\n",
    "\n",
    "donde $Y$ es un vector columna $n$-dimensional, $X$ es una matriz $n \\times p'$, con $p' = p+1$, $\\beta$ es el vector de coeficientes de regresión a ser estimados, su dimensión es $p'$ y $e$ es un vector columna aleatorio de dimensión $n$.\n",
    "\n",
    "Por ahora, las únicas suposiciones que se requieren son que $E(e) = 0$ y que la matriz de varianza-covarianza de los errores está dada por $\\text{Var}(e) = \\sigma^2 I_n$, donde $I_n$ es la matriz identidad de orden $n$.\n",
    "\n"
   ]
  },
  {
   "cell_type": "code",
   "execution_count": null,
   "id": "513e0816",
   "metadata": {},
   "outputs": [],
   "source": []
  }
 ],
 "metadata": {
  "kernelspec": {
   "display_name": "Python 3 (ipykernel)",
   "language": "python",
   "name": "python3"
  },
  "language_info": {
   "codemirror_mode": {
    "name": "ipython",
    "version": 3
   },
   "file_extension": ".py",
   "mimetype": "text/x-python",
   "name": "python",
   "nbconvert_exporter": "python",
   "pygments_lexer": "ipython3",
   "version": "3.9.12"
  }
 },
 "nbformat": 4,
 "nbformat_minor": 5
}
