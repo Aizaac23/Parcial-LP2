{
 "cells": [
  {
   "cell_type": "markdown",
   "id": "a06b201d",
   "metadata": {},
   "source": [
    "# Modelo de regresión lineal múltiple\n"
   ]
  },
  {
   "cell_type": "markdown",
   "id": "f1f659d6",
   "metadata": {},
   "source": [
    "El modelo de regresión lineal múltiple con ( p ) variables predictoras y basado en ( n ) observaciones tomadas es de la forma:\n",
    "\n",
    "$y_i = \\beta_0 + \\beta_1 x_{i1} + \\beta_2 x_{i2} + \\ldots + \\beta_p x_{ip} + e_i \\quad \\text{para } i=1,2,\\ldots,n.$\n",
    "\n",
    "Escribiendo el modelo para cada una de las observaciones, éste puede ser considerado como un sistema de ecuaciones lineales de la forma:\n",
    "\n",
    "\n",
    "$$\\begin{aligned}\n",
    "y_1 &= \\beta_0 + \\beta_1 x_{11} + \\beta_2 x_{12} + \\ldots + \\beta_p x_{1p} + e_1 \\\\\n",
    "y_2 &= \\beta_0 + \\beta_1 x_{21} + \\beta_2 x_{22} + \\ldots + \\beta_p x_{2p} + e_2 \\\\\n",
    "&\\vdots \\\\\n",
    "y_n &= \\beta_0 + \\beta_1 x_{n1} + \\beta_2 x_{n2} + \\ldots + \\beta_p x_{np} + e_n \\\\\n",
    "\\end{aligned}$$\n",
    "\n",
    "que puede ser escrita en forma matricial como\n",
    "\n",
    "$$\n",
    "\\begin{bmatrix}\n",
    "y_1 \\\\\n",
    "y_2 \\\\\n",
    "\\vdots \\\\\n",
    "y_n \\\\\n",
    "\\end{bmatrix}\n",
    "=\n",
    "\\begin{bmatrix}\n",
    "1 & x_{11} & x_{12} & \\ldots & x_{1p} \\\\\n",
    "1 & x_{21} & x_{22} & \\ldots & x_{2p} \\\\\n",
    "\\vdots & \\vdots & \\vdots & \\ddots & \\vdots \\\\\n",
    "1 & x_{n1} & x_{n2} & \\ldots & x_{np} \\\\\n",
    "\\end{bmatrix}\n",
    "\\begin{bmatrix}\n",
    "\\beta_0 \\\\\n",
    "\\beta_1 \\\\\n",
    "\\beta_2 \\\\\n",
    "\\vdots \\\\\n",
    "\\beta_p \\\\\n",
    "\\end{bmatrix}\n",
    "+\n",
    "\\begin{bmatrix}\n",
    "e_1 \\\\\n",
    "e_2 \\\\\n",
    "\\vdots \\\\\n",
    "e_n \\\\\n",
    "\\end{bmatrix}\n",
    "$$\n",
    "\n",
    "O sea,\n",
    "$$Y = X\\beta + e \\quad (2.2)$$\n",
    "\n",
    "donde $Y$ es un vector columna $n$-dimensional, $X$ es una matriz $n \\times p'$, con $p' = p+1$, $\\beta$ es el vector de coeficientes de regresión a ser estimados, su dimensión es $p'$ y $e$ es un vector columna aleatorio de dimensión $n$.\n",
    "\n",
    "Por ahora, las únicas suposiciones que se requieren son que $E(e) = 0$ y que la matriz de varianza-covarianza de los errores está dada por $\\text{Var}(e) = \\sigma^2 I_n$, donde $I_n$ es la matriz identidad de orden $n$.\n",
    "\n"
   ]
  },
  {
   "cell_type": "markdown",
   "id": "9dfa1008-aa5d-4066-8c6a-2ed15427c8e2",
   "metadata": {},
   "source": [
    "## Inferencia sobre la regresión lineal múltiple"
   ]
  },
  {
   "cell_type": "markdown",
   "id": "a0e9d3d0-2667-4f5e-85c7-f3eca6a20901",
   "metadata": {},
   "source": [
    "\n",
    "En esta sección se harán  pruebas de hipótesis e intervalos de confianza acerca de los coeficientes del modelo de regresión poblacional. "
   ]
  },
  {
   "cell_type": "markdown",
   "id": "66a75d81-10e0-4fb7-9d45-7ed202584a64",
   "metadata": {},
   "source": [
    "#### Prueba de hipótesis acerca de un coeficiente de regresión individual "
   ]
  },
  {
   "cell_type": "markdown",
   "id": "8c92f434-be16-4dca-9a66-eb06b0c62ac2",
   "metadata": {},
   "source": [
    "En este caso la hipótesis nula más importante es $Ho: β_i=0 ( i=1,2..,p)$, o sea la variable $X_i$  no es \n",
    "importante en el modelo, versus la hipótesis alterna $Ha:β_i≠0$; la variable $X_i$ si merece ser \n",
    "considerada en el modelo. La prueba estadística es la prueba de t, definida por:"
   ]
  },
  {
   "cell_type": "markdown",
   "id": "56c241b8-61a7-4e9e-92c0-d32135951a98",
   "metadata": {},
   "source": [
    "$$ t =  \\frac{\\hat{\\beta_i}}{se(\\hat{\\beta_i})} = \\frac{\\hat{\\beta_i}}{s\\sqrt{C_{ii}}} $$"
   ]
  },
  {
   "cell_type": "markdown",
   "id": "20a16887-5366-45c1-b59d-9e6a84a1c61a",
   "metadata": {},
   "source": [
    " donde el error estándar de $\\hat{\\beta_i} $ se calcula por $se(\\hat{\\beta_i})= s\\sqrt{C_{ii}}$ , $Cii$ es el $i-ésimo$ elemento de la \n",
    "diagonal de $(X'X)^{-1}$. Esta $t$ se distribuye como una T-Student con $n-p-1$ grados de libertad. \n"
   ]
  },
  {
   "cell_type": "markdown",
   "id": "6092e8bc-3e1b-4cd6-8656-ded716b378bd",
   "metadata": {},
   "source": [
    "#### Prueba de Hipótesis de que todos los coeficientes de regresión son ceros"
   ]
  },
  {
   "cell_type": "markdown",
   "id": "14cf9033-a90b-4964-9d60-95b6c5453bbb",
   "metadata": {},
   "source": [
    "En este caso la hipótesis nula es  $Ho: β_1=β_2=…=β_p=0$, o sea que el modelo no sirve, versus la hipótesis alterna $Ha$: Al menos uno de los coeficientes es distinto de cero, o sea al menos una de las variables del modelo puede ser usada para explicar la variación de $Y$.  \n",
    "La suma de cuadrados de Regresión tiene p grados de libertad  que es igual al número de variables predictoras en el modelo. \n",
    "Se puede mostrar que  si la hipótesis nula es cierta entonces :                                   \n",
    "$$F=\\frac{\\frac{SSR}{p}}{\\frac{SSE}{n-p-1}}$$\n",
    "se distribuye como una $F$ con $p$ grados de libertad en el numerador y $n-p-1$ grados de libertad en el denominador. \n"
   ]
  },
  {
   "cell_type": "markdown",
   "id": "5ab31a51-0cc6-45f4-bd7f-86368075f491",
   "metadata": {},
   "source": [
    "#### Ejemplo de aplicación "
   ]
  },
  {
   "cell_type": "markdown",
   "id": "4ad024d2-db5b-4e96-bb3f-61e5c3e2f0a3",
   "metadata": {},
   "source": [
    "La base de datos e.xlsx contiene las siguientes variables medidas en 146 carros: \n",
    "\n",
    "| Variable | Descripción |\n",
    "|----------|----------|\n",
    "| weight   |Peso en libras  | \n",
    "| eng.cc   |  Cilindrada del motor en pulgadas cúbicas |\n",
    "| hp   | Potencia del motor en caballos de fuerza (hp) |\n",
    "|hw.mpg |Eficiencia en consumo de combustible en carretera en millas por galón (mpg)|\n",
    "\n",
    "Se desea estimar la eficiencia en consumo de combustible en carretera a partir de las demás variables"
   ]
  },
  {
   "cell_type": "code",
   "execution_count": 7,
   "id": "fc356a93",
   "metadata": {},
   "outputs": [
    {
     "data": {
      "text/plain": [
       "'C:\\\\Users\\\\Manolo\\\\Desktop\\\\parcial\\\\Parcial-LP2'"
      ]
     },
     "execution_count": 7,
     "metadata": {},
     "output_type": "execute_result"
    }
   ],
   "source": [
    "#Si estas revizando los archivos desde tu pc puedes abrirlo con el comando os.getcwd()\n",
    "import pandas as pd\n",
    "import os\n",
    "os.getcwd()\n",
    "#agregas al final de la ubicación \\\\e.xlsx y con esto tendras la ubicación exacta para leer el archivo excel."
   ]
  },
  {
   "cell_type": "code",
   "execution_count": 1,
   "id": "6fb6b336-93ba-41cf-8f00-b881c372f44a",
   "metadata": {},
   "outputs": [],
   "source": [
    "#paquetes a utilizar.\n",
    "import statsmodels.api as sm\n",
    "import pandas as pd\n",
    "import numpy as np\n",
    "import openpyxl as opxl\n",
    "import seaborn as sns\n",
    "import matplotlib.pyplot as plt\n",
    "\n",
    "df = pd.read_excel(r\"C:\\Users\\Manolo\\Desktop\\parcial\\Parcial-LP2\\\\e.xlsx\")\n"
   ]
  },
  {
   "cell_type": "code",
   "execution_count": 8,
   "id": "de97b241",
   "metadata": {},
   "outputs": [
    {
     "data": {
      "image/png": "[encoded data removed]",
      "text/plain": [
       "<Figure size 540x180 with 3 Axes>"
      ]
     },
     "metadata": {
      "needs_background": "light"
     },
     "output_type": "display_data"
    }
   ],
   "source": [
    "\n",
    "# Visualizar la relación entre cada variable predictora y la variable respuesta.\n",
    "sns.pairplot(df, x_vars=[\"weight\", \"eng.cc\", \"hp\"], y_vars=\"hw.mpg\", kind=\"reg\")\n",
    "plt.show()\n"
   ]
  },
  {
   "cell_type": "code",
   "execution_count": 2,
   "id": "e8cbe574-4c7a-4200-8961-ec1c8eab7970",
   "metadata": {},
   "outputs": [
    {
     "data": {
      "text/html": [
       "<div>\n",
       "<style scoped>\n",
       "    .dataframe tbody tr th:only-of-type {\n",
       "        vertical-align: middle;\n",
       "    }\n",
       "\n",
       "    .dataframe tbody tr th {\n",
       "        vertical-align: top;\n",
       "    }\n",
       "\n",
       "    .dataframe thead th {\n",
       "        text-align: right;\n",
       "    }\n",
       "</style>\n",
       "<table border=\"1\" class=\"dataframe\">\n",
       "  <thead>\n",
       "    <tr style=\"text-align: right;\">\n",
       "      <th></th>\n",
       "      <th>weight</th>\n",
       "      <th>eng.cc</th>\n",
       "      <th>hp</th>\n",
       "      <th>hw.mpg</th>\n",
       "    </tr>\n",
       "  </thead>\n",
       "  <tbody>\n",
       "    <tr>\n",
       "      <th>0</th>\n",
       "      <td>2823</td>\n",
       "      <td>152</td>\n",
       "      <td>154</td>\n",
       "      <td>26</td>\n",
       "    </tr>\n",
       "    <tr>\n",
       "      <th>1</th>\n",
       "      <td>2337</td>\n",
       "      <td>109</td>\n",
       "      <td>102</td>\n",
       "      <td>30</td>\n",
       "    </tr>\n",
       "    <tr>\n",
       "      <th>2</th>\n",
       "      <td>2824</td>\n",
       "      <td>136</td>\n",
       "      <td>115</td>\n",
       "      <td>22</td>\n",
       "    </tr>\n",
       "    <tr>\n",
       "      <th>3</th>\n",
       "      <td>2507</td>\n",
       "      <td>136</td>\n",
       "      <td>110</td>\n",
       "      <td>25</td>\n",
       "    </tr>\n",
       "    <tr>\n",
       "      <th>4</th>\n",
       "      <td>2844</td>\n",
       "      <td>136</td>\n",
       "      <td>110</td>\n",
       "      <td>25</td>\n",
       "    </tr>\n",
       "    <tr>\n",
       "      <th>...</th>\n",
       "      <td>...</td>\n",
       "      <td>...</td>\n",
       "      <td>...</td>\n",
       "      <td>...</td>\n",
       "    </tr>\n",
       "    <tr>\n",
       "      <th>141</th>\n",
       "      <td>2952</td>\n",
       "      <td>141</td>\n",
       "      <td>114</td>\n",
       "      <td>28</td>\n",
       "    </tr>\n",
       "    <tr>\n",
       "      <th>142</th>\n",
       "      <td>3049</td>\n",
       "      <td>141</td>\n",
       "      <td>160</td>\n",
       "      <td>25</td>\n",
       "    </tr>\n",
       "    <tr>\n",
       "      <th>143</th>\n",
       "      <td>3012</td>\n",
       "      <td>173</td>\n",
       "      <td>134</td>\n",
       "      <td>23</td>\n",
       "    </tr>\n",
       "    <tr>\n",
       "      <th>144</th>\n",
       "      <td>3217</td>\n",
       "      <td>145</td>\n",
       "      <td>106</td>\n",
       "      <td>27</td>\n",
       "    </tr>\n",
       "    <tr>\n",
       "      <th>145</th>\n",
       "      <td>3062</td>\n",
       "      <td>141</td>\n",
       "      <td>114</td>\n",
       "      <td>25</td>\n",
       "    </tr>\n",
       "  </tbody>\n",
       "</table>\n",
       "<p>146 rows × 4 columns</p>\n",
       "</div>"
      ],
      "text/plain": [
       "     weight  eng.cc   hp  hw.mpg\n",
       "0      2823     152  154      26\n",
       "1      2337     109  102      30\n",
       "2      2824     136  115      22\n",
       "3      2507     136  110      25\n",
       "4      2844     136  110      25\n",
       "..      ...     ...  ...     ...\n",
       "141    2952     141  114      28\n",
       "142    3049     141  160      25\n",
       "143    3012     173  134      23\n",
       "144    3217     145  106      27\n",
       "145    3062     141  114      25\n",
       "\n",
       "[146 rows x 4 columns]"
      ]
     },
     "execution_count": 2,
     "metadata": {},
     "output_type": "execute_result"
    }
   ],
   "source": [
    "df"
   ]
  },
  {
   "cell_type": "code",
   "execution_count": 3,
   "id": "03b0a861-3a03-4289-a3f5-95e34f5fec6d",
   "metadata": {},
   "outputs": [
    {
     "name": "stdout",
     "output_type": "stream",
     "text": [
      "                            OLS Regression Results                            \n",
      "==============================================================================\n",
      "Dep. Variable:                 hw.mpg   R-squared:                       0.807\n",
      "Model:                            OLS   Adj. R-squared:                  0.803\n",
      "Method:                 Least Squares   F-statistic:                     198.4\n",
      "Date:                Wed, 15 May 2024   Prob (F-statistic):           1.41e-50\n",
      "Time:                        15:45:23   Log-Likelihood:                -336.70\n",
      "No. Observations:                 146   AIC:                             681.4\n",
      "Df Residuals:                     142   BIC:                             693.3\n",
      "Df Model:                           3                                         \n",
      "Covariance Type:            nonrobust                                         \n",
      "==============================================================================\n",
      "                 coef    std err          t      P>|t|      [0.025      0.975]\n",
      "------------------------------------------------------------------------------\n",
      "const         51.7117      1.239     41.749      0.000      49.263      54.160\n",
      "weight        -0.0066      0.001     -6.800      0.000      -0.009      -0.005\n",
      "eng.cc         0.0495      0.012      4.183      0.000       0.026       0.073\n",
      "hp            -0.1064      0.011    -10.015      0.000      -0.127      -0.085\n",
      "==============================================================================\n",
      "Omnibus:                        7.282   Durbin-Watson:                   1.778\n",
      "Prob(Omnibus):                  0.026   Jarque-Bera (JB):                7.554\n",
      "Skew:                          -0.402   Prob(JB):                       0.0229\n",
      "Kurtosis:                       3.771   Cond. No.                     1.58e+04\n",
      "==============================================================================\n",
      "\n",
      "Notes:\n",
      "[1] Standard Errors assume that the covariance matrix of the errors is correctly specified.\n",
      "[2] The condition number is large, 1.58e+04. This might indicate that there are\n",
      "strong multicollinearity or other numerical problems.\n"
     ]
    }
   ],
   "source": [
    "# Definimos las variables predictoras X y la respuesta Y:\n",
    "X = df[[\"weight\", \"eng.cc\", \"hp\"]]\n",
    "Y = df[\"hw.mpg\"]\n",
    "\n",
    "def reg_m(y, x):\n",
    "    # Agrega una constante (intercepto) al modelo:\n",
    "    x = sm.add_constant(x)\n",
    "    # Ajuste del modelo: \n",
    "    model = sm.OLS(y, x).fit()\n",
    "    return model\n",
    "\n",
    "# Resumen de estadísticas: \n",
    "print(reg_m(Y, X).summary())"
   ]
  },
  {
   "cell_type": "markdown",
   "id": "7f339614-a118-4c7f-93bf-14521b555614",
   "metadata": {},
   "source": [
    "#### Interpretaición de los coeficientes de regresión:"
   ]
  },
  {
   "cell_type": "markdown",
   "id": "13c470ae-5c09-47b3-be37-b70bed61d55f",
   "metadata": {},
   "source": [
    "$\\hat{\\beta_0}$ (intercepto) : No tiene interpretación científica. Ya que no tiene sentido en el caso de que un motor que no este operando tenga una alta eficiencia, o que el peso sea cero.\n",
    "\n",
    "$\\hat{\\beta_1}$: Si se mantiene las demás variables constantes, y se incrementa el peso en una libra, se espera que la eficiencia disminuya en promedio 0.0066 mpg.\n",
    "\n",
    "$\\hat{\\beta_2}$:  Si se mantiene las demás variables constantes, y se incrementa en una pulgada cúbica la cilindrada del motor, se espera que la eficiencia aumente en promedio 0.0495 mpg.\n",
    "\n",
    "$\\hat{\\beta_3}$: Si se mantiene las demás variables constantes, y se incrementa la potencia del motor en un caballo de fuerza, se espera que la eficiencia disminuya en promedio 0.1064 mpg."
   ]
  },
  {
   "cell_type": "markdown",
   "id": "bcf5edef",
   "metadata": {},
   "source": [
    "## Analisís de linealidad con el gráfico de residuales\n",
    "La linealidad es un supuesto que establece que la variables predictoras deben tener una relación aproximadamente lineal con la variable respuesta.\n",
    "Para medir el supuesto de linealidad podemos utilizar pruebas de hipotesis como por ejemplo la de no aditividad de Tukey donde si se rechaza la hipótesis nula se puede afirmar que no se cumple con el supuesto de linealidad, una manera más simple es obserbar el gráfico de residuales y los valores estimados, si muestra alguna tendencia que sea fácilmente reconocible no se cumple con el supuesto.\n"
   ]
  },
  {
   "cell_type": "code",
   "execution_count": 16,
   "id": "a35d0dc8",
   "metadata": {
    "scrolled": true
   },
   "outputs": [
    {
     "data": {
      "image/png": "[encoded data removed]",
      "text/plain": [
       "<Figure size 720x432 with 1 Axes>"
      ]
     },
     "metadata": {
      "needs_background": "light"
     },
     "output_type": "display_data"
    }
   ],
   "source": [
    "\n",
    "#Obtener los residuos\n",
    "model = reg_m(Y, X)\n",
    "residuals = model.resid\n",
    "\n",
    "# Gráfico de residuos\n",
    "plt.figure(figsize=(10, 6))\n",
    "plt.scatter(model.fittedvalues, residuals)\n",
    "plt.axhline(0, color='red', linestyle='--')\n",
    "plt.xlabel(\"Fitted values\")\n",
    "plt.ylabel(\"Residuals\")\n",
    "plt.title(\"Residuals vs Fitted values\")\n",
    "plt.show()\n",
    "\n"
   ]
  }
 ],
 "metadata": {
  "kernelspec": {
   "display_name": "Python 3 (ipykernel)",
   "language": "python",
   "name": "python3"
  },
  "language_info": {
   "codemirror_mode": {
    "name": "ipython",
    "version": 3
   },
   "file_extension": ".py",
   "mimetype": "text/x-python",
   "name": "python",
   "nbconvert_exporter": "python",
   "pygments_lexer": "ipython3",
   "version": "3.9.12"
  }
 },
 "nbformat": 4,
 "nbformat_minor": 5
}
