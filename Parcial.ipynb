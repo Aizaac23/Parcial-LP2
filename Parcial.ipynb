{
 "cells": [
  {
   "cell_type": "markdown",
   "id": "a06b201d",
   "metadata": {},
   "source": [
    "# Modelo de regresión lineal múltiple\n"
   ]
  },
  {
   "cell_type": "markdown",
   "id": "f1f659d6",
   "metadata": {},
   "source": [
    "El modelo de regresión lineal múltiple con ( p ) variables predictoras y basado en ( n ) observaciones tomadas es de la forma:\n",
    "\n",
    "$y_i = \\beta_0 + \\beta_1 x_{i1} + \\beta_2 x_{i2} + \\ldots + \\beta_p x_{ip} + e_i \\quad \\text{para } i=1,2,\\ldots,n.$\n",
    "\n",
    "Escribiendo el modelo para cada una de las observaciones, éste puede ser considerado como un sistema de ecuaciones lineales de la forma:\n",
    "\n",
    "\n",
    "$$\\begin{aligned}\n",
    "y_1 &= \\beta_0 + \\beta_1 x_{11} + \\beta_2 x_{12} + \\ldots + \\beta_p x_{1p} + e_1 \\\\\n",
    "y_2 &= \\beta_0 + \\beta_1 x_{21} + \\beta_2 x_{22} + \\ldots + \\beta_p x_{2p} + e_2 \\\\\n",
    "&\\vdots \\\\\n",
    "y_n &= \\beta_0 + \\beta_1 x_{n1} + \\beta_2 x_{n2} + \\ldots + \\beta_p x_{np} + e_n \\\\\n",
    "\\end{aligned}$$\n",
    "\n",
    "que puede ser escrita en forma matricial como\n",
    "\n",
    "$$\n",
    "\\begin{bmatrix}\n",
    "y_1 \\\\\n",
    "y_2 \\\\\n",
    "\\vdots \\\\\n",
    "y_n \\\\\n",
    "\\end{bmatrix}\n",
    "=\n",
    "\\begin{bmatrix}\n",
    "1 & x_{11} & x_{12} & \\ldots & x_{1p} \\\\\n",
    "1 & x_{21} & x_{22} & \\ldots & x_{2p} \\\\\n",
    "\\vdots & \\vdots & \\vdots & \\ddots & \\vdots \\\\\n",
    "1 & x_{n1} & x_{n2} & \\ldots & x_{np} \\\\\n",
    "\\end{bmatrix}\n",
    "\\begin{bmatrix}\n",
    "\\beta_0 \\\\\n",
    "\\beta_1 \\\\\n",
    "\\beta_2 \\\\\n",
    "\\vdots \\\\\n",
    "\\beta_p \\\\\n",
    "\\end{bmatrix}\n",
    "+\n",
    "\\begin{bmatrix}\n",
    "e_1 \\\\\n",
    "e_2 \\\\\n",
    "\\vdots \\\\\n",
    "e_n \\\\\n",
    "\\end{bmatrix}\n",
    "$$\n",
    "\n",
    "O sea,\n",
    "$$Y = X\\beta + e \\quad (2.2)$$\n",
    "\n",
    "donde $Y$ es un vector columna $n$-dimensional, $X$ es una matriz $n \\times p'$, con $p' = p+1$, $\\beta$ es el vector de coeficientes de regresión a ser estimados, su dimensión es $p'$ y $e$ es un vector columna aleatorio de dimensión $n$.\n",
    "\n",
    "Por ahora, las únicas suposiciones que se requieren son que $E(e) = 0$ y que la matriz de varianza-covarianza de los errores está dada por $\\text{Var}(e) = \\sigma^2 I_n$, donde $I_n$ es la matriz identidad de orden $n$.\n",
    "\n"
   ]
  },
  {
   "cell_type": "markdown",
   "id": "9dfa1008-aa5d-4066-8c6a-2ed15427c8e2",
   "metadata": {},
   "source": [
    "## Inferencia sobre la regresión lineal múltiple"
   ]
  },
  {
   "cell_type": "markdown",
   "id": "a0e9d3d0-2667-4f5e-85c7-f3eca6a20901",
   "metadata": {},
   "source": [
    "\n",
    "En esta sección se harán  pruebas de hipótesis e intervalos de confianza acerca de los coeficientes del modelo de regresión poblacional. "
   ]
  },
  {
   "cell_type": "markdown",
   "id": "66a75d81-10e0-4fb7-9d45-7ed202584a64",
   "metadata": {},
   "source": [
    "#### Prueba de hipótesis acerca de un coeficiente de regresión individual "
   ]
  },
  {
   "cell_type": "markdown",
   "id": "8c92f434-be16-4dca-9a66-eb06b0c62ac2",
   "metadata": {},
   "source": [
    "En este caso la hipótesis nula más importante es $Ho: β_i=0 ( i=1,2..,p)$, o sea la variable $X_i$  no es \n",
    "importante en el modelo, versus la hipótesis alterna $Ha:β_i≠0$; la variable $X_i$ si merece ser \n",
    "considerada en el modelo. La prueba estadística es la prueba de t, definida por:"
   ]
  },
  {
   "cell_type": "markdown",
   "id": "56c241b8-61a7-4e9e-92c0-d32135951a98",
   "metadata": {},
   "source": [
    "$$ t =  \\frac{\\hat{\\beta_i}}{se(\\hat{\\beta_i})} = \\frac{\\hat{\\beta_i}}{s\\sqrt{C_{ii}}} $$"
   ]
  },
  {
   "cell_type": "markdown",
   "id": "20a16887-5366-45c1-b59d-9e6a84a1c61a",
   "metadata": {},
   "source": [
    " donde el error estándar de $\\hat{\\beta_i} $ se calcula por $se(\\hat{\\beta_i})= s\\sqrt{C_{ii}}$ , $Cii$ es el $i-ésimo$ elemento de la \n",
    "diagonal de $(X'X)^{-1}$. Esta $t$ se distribuye como una T-Student con $n-p-1$ grados de libertad. \n"
   ]
  },
  {
   "cell_type": "markdown",
   "id": "6092e8bc-3e1b-4cd6-8656-ded716b378bd",
   "metadata": {},
   "source": [
    "#### Prueba de Hipótesis de que todos los coeficientes de regresión son ceros"
   ]
  },
  {
   "cell_type": "markdown",
   "id": "14cf9033-a90b-4964-9d60-95b6c5453bbb",
   "metadata": {},
   "source": [
    "En este caso la hipótesis nula es  $Ho: β_1=β_2=…=β_p=0$, o sea que el modelo no sirve, versus la hipótesis alterna $Ha$: Al menos uno de los coeficientes es distinto de cero, o sea al menos una de las variables del modelo puede ser usada para explicar la variación de $Y$.  \n",
    "La suma de cuadrados de Regresión tiene p grados de libertad  que es igual al número de variables predictoras en el modelo. \n",
    "Se puede mostrar que  si la hipótesis nula es cierta entonces :                                   \n",
    "$$F=\\frac{\\frac{SSR}{p}}{\\frac{SSE}{n-p-1}}$$\n",
    "se distribuye como una $F$ con $p$ grados de libertad en el numerador y $n-p-1$ grados de libertad en el denominador. \n"
   ]
  },
  {
   "cell_type": "markdown",
   "id": "5ab31a51-0cc6-45f4-bd7f-86368075f491",
   "metadata": {},
   "source": [
    "#### Ejemplo de aplicación "
   ]
  },
  {
   "cell_type": "code",
   "execution_count": null,
   "id": "6fb6b336-93ba-41cf-8f00-b881c372f44a",
   "metadata": {},
   "outputs": [],
   "source": []
  },
  {
   "cell_type": "code",
   "execution_count": null,
   "id": "e8cbe574-4c7a-4200-8961-ec1c8eab7970",
   "metadata": {},
   "outputs": [],
   "source": []
  }
 ],
 "metadata": {
  "kernelspec": {
   "display_name": "Python 3 (ipykernel)",
   "language": "python",
   "name": "python3"
  },
  "language_info": {
   "codemirror_mode": {
    "name": "ipython",
    "version": 3
   },
   "file_extension": ".py",
   "mimetype": "text/x-python",
   "name": "python",
   "nbconvert_exporter": "python",
   "pygments_lexer": "ipython3",
   "version": "3.11.9"
  }
 },
 "nbformat": 4,
 "nbformat_minor": 5
}
