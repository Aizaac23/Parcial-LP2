{
 "cells": [
  {
   "cell_type": "markdown",
   "id": "a06b201d",
   "metadata": {},
   "source": [
    "# Regresión Lineal Simple\n"
   ]
  },
  {
   "cell_type": "markdown",
   "id": "f1f659d6",
   "metadata": {},
   "source": [
    "El modelo de regresión lineal múltiple con ( p ) variables predictoras y basado en ( n ) observaciones tomadas es de la forma:\n",
    "\n",
    "$y_i = \\beta_0 + \\beta_1 x_{i1} + \\beta_2 x_{i2} + \\ldots + \\beta_p x_{ip} + e_i \\quad \\text{para } i=1,2,\\ldots,n.$\n",
    "\n",
    "Escribiendo el modelo para cada una de las observaciones, éste puede ser considerado como un sistema de ecuaciones lineales de la forma:\n",
    "\n",
    "\n",
    "$$\\begin{aligned}\n",
    "y_1 &= \\beta_0 + \\beta_1 x_{11} + \\beta_2 x_{12} + \\ldots + \\beta_p x_{1p} + e_1 \\\\\n",
    "y_2 &= \\beta_0 + \\beta_1 x_{21} + \\beta_2 x_{22} + \\ldots + \\beta_p x_{2p} + e_2 \\\\\n",
    "&\\vdots \\\\\n",
    "y_n &= \\beta_0 + \\beta_1 x_{n1} + \\beta_2 x_{n2} + \\ldots + \\beta_p x_{np} + e_n \\\\\n",
    "\\end{aligned}$$\n",
    "\n",
    "\n"
   ]
  },
  {
   "cell_type": "code",
   "execution_count": null,
   "id": "0a1e061f",
   "metadata": {},
   "outputs": [],
   "source": []
  }
 ],
 "metadata": {
  "kernelspec": {
   "display_name": "Python 3 (ipykernel)",
   "language": "python",
   "name": "python3"
  },
  "language_info": {
   "codemirror_mode": {
    "name": "ipython",
    "version": 3
   },
   "file_extension": ".py",
   "mimetype": "text/x-python",
   "name": "python",
   "nbconvert_exporter": "python",
   "pygments_lexer": "ipython3",
   "version": "3.9.12"
  }
 },
 "nbformat": 4,
 "nbformat_minor": 5
}
